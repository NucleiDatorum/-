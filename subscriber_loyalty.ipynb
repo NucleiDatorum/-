{
  "cells": [
    {
      "cell_type": "markdown",
      "metadata": {
        "id": "view-in-github",
        "colab_type": "text"
      },
      "source": [
        "<a href=\"https://colab.research.google.com/github/NucleiDatorum/Portfolio/blob/main/subscriber_loyalty.ipynb\" target=\"_parent\"><img src=\"https://colab.research.google.com/assets/colab-badge.svg\" alt=\"Open In Colab\"/></a>"
      ]
    },
    {
      "cell_type": "markdown",
      "id": "60286e18",
      "metadata": {
        "id": "60286e18"
      },
      "source": [
        "<font color='DarkBlue' size=+2><b>Исследование потребительской лояльности крупной российской телеком-компании</b></font><br>"
      ]
    },
    {
      "cell_type": "markdown",
      "source": [
        "Ссылка на дашборд в Tableau:<br>\n",
        "https://public.tableau.com/views/_NPS-/NPS-?:language=en-US&publish=yes&:display_count=n&:origin=viz_share_link"
      ],
      "metadata": {
        "id": "1WAP857t8TvN"
      },
      "id": "1WAP857t8TvN"
    },
    {
      "cell_type": "markdown",
      "id": "456de81f",
      "metadata": {
        "id": "456de81f"
      },
      "source": [
        "<font color='DarkBlue' size=+1>Описание проекта</font><br>\n",
        "Крупная телекоммуникационная компания, оказывающая услуги на территории всего СНГ, <br>\n",
        "провела опрос среди своих клиентов из России, задав им классический вопрос: <br>\n",
        "\"Оцените по шкале от 1 до 10 вероятность того, что вы порекомендуете компанию друзьям и знакомым\"."
      ]
    },
    {
      "cell_type": "markdown",
      "id": "fcb3b9c4",
      "metadata": {
        "id": "fcb3b9c4"
      },
      "source": [
        "<font color='DarkBlue' size=+1>Цель исследования</font><br>\n",
        "Необходимо определить текущий уровень потребительской лояльности (NPS) <br>\n",
        "в зависимости от пользовательских признаков <br>\n",
        "и подготовить итоговый дашборд.<br>\n",
        "Результаты опроса следует разделить на три группы:<br>\n",
        "- 9-10 баллов - \"сторонники\";\n",
        "- 7-8 баллов - \"нейтралы\";\n",
        "- 0-6 баллов - \"критики\".<br>\n",
        "\n",
        "Итоговое значение NPS рассчитать по формуле: % \"сторонников\" - % \"критиков\"."
      ]
    },
    {
      "cell_type": "markdown",
      "id": "e3ca1758",
      "metadata": {
        "id": "e3ca1758"
      },
      "source": [
        "<font color='DarkBlue' size=+1>Описание данных</font><br>\n",
        "База данных с результатами опроса хранится в файле СУБД SQLite.<br>\n",
        "В ней 5 таблиц:\n",
        "- <font color='blue'> user </font> содержит основную информацию о клиентах;\n",
        "- <font color='blue'> location </font> - это справочник территорий, в которых оказывает услуги телеком-компания;\n",
        "- <font color='blue'> age_segment </font> - данные о возрастных сегментах клиентов;\n",
        "- <font color='blue'> traffic_segment </font> - данные о сегментах по объёму потребляемого трафика;\n",
        "- <font color='blue'> lifetime_segment </font> - данные о сегментах по количеству месяцев \"жизни\" клиента (лайфтайм - это показатель, определяющий, является ли клиент новым. Клиента считают новым, если количество дней \"жизни\" в компании составляет не более 365 дней)."
      ]
    },
    {
      "cell_type": "markdown",
      "id": "f3f1e58e",
      "metadata": {
        "id": "f3f1e58e"
      },
      "source": [
        "## 1. Подключение к базе данных"
      ]
    },
    {
      "cell_type": "code",
      "execution_count": 1,
      "id": "fc7efa54",
      "metadata": {
        "id": "fc7efa54"
      },
      "outputs": [],
      "source": [
        "# импорт необходимых библиотек\n",
        "\n",
        "import os\n",
        "import pandas as pd\n",
        "import numpy as np\n",
        "\n",
        "from sqlalchemy import create_engine"
      ]
    },
    {
      "cell_type": "code",
      "execution_count": 2,
      "id": "0017f8e7",
      "metadata": {
        "id": "0017f8e7"
      },
      "outputs": [],
      "source": [
        "# путь к БД на локальном диске\n",
        "path_to_db_local = '/content/telecomm_csi.db'\n",
        "\n",
        "# путь к БД на платформе Яндекс Практикум\n",
        "path_to_db_platform = '/datasets/telecomm_csi.db'\n",
        "\n",
        "# итоговый путь к БД\n",
        "path_to_db = None\n",
        "\n",
        "# если путь на локальном диске ведёт к БД, то он становится итоговым\n",
        "if os.path.exists(path_to_db_local):\n",
        "    path_to_db = path_to_db_local\n",
        "\n",
        "# иначе: если путь на платформе ведёт к БД, то он становится итоговым\n",
        "elif os.path.exists(path_to_db_platform):\n",
        "    path_to_db = path_to_db_platform\n",
        "\n",
        "# иначе вывести сообщение о том, что файл не найден\n",
        "else:\n",
        "    raise Exception('Файл с базой данных SQLite не найден!')\n",
        "\n",
        "# если итоговый путь не пустой, то создать подключение к БД\n",
        "if path_to_db:\n",
        "    engine = create_engine(f'sqlite:///{path_to_db}', echo=False)"
      ]
    },
    {
      "cell_type": "markdown",
      "id": "d0cac14f",
      "metadata": {
        "id": "d0cac14f"
      },
      "source": [
        "## 2. Витрина данных для дашборда"
      ]
    },
    {
      "cell_type": "markdown",
      "id": "05b42871",
      "metadata": {
        "id": "05b42871"
      },
      "source": [
        "### 2.1. SQL-запрос"
      ]
    },
    {
      "cell_type": "markdown",
      "id": "40774849",
      "metadata": {
        "id": "40774849"
      },
      "source": [
        "Чтобы подготовить данные для дашборда, необходимо собрать их в одну витрину при помощи SQL-запросов. Нам нужны не все данные из базы, а только следующие поля:\n",
        "- <font color='blue'> user_id </font> - идентификатор клиента;\n",
        "- <font color='blue'> lt_day </font> - количество дней \"жизни\" клиента;\n",
        "- <font color='blue'> is_new </font> - является ли клиент новым (этого поля нет в исходной БД, его нужно создать при помощи подзапроса CASE, который разделит клиентов на категории \"new\" и \"old\");\n",
        "- <font color='blue'> age </font> - возраст клиента;\n",
        "- <font color='blue'> gender_segment </font> - пол (в БД это поле содержит значения: 1 - женщина, 0 - мужчина. Для удобства работы это поле следует преобразовать в значения: \"мужчина\" и \"женщина\" при помощи подзапроса CASE);\n",
        "- <font color='blue'> os_name </font> - тип операционной системы;\n",
        "- <font color='blue'> cpe_type_name </font> - тип устройства;\n",
        "- <font color='blue'> country </font> - страна проживания;\n",
        "- <font color='blue'> city </font> - город проживания;\n",
        "- <font color='blue'> age_segment </font> - возрастной сегмент (в исходной базе данных вместе с возрастом указан двухзначный код сегмента. Чтобы выгрузить только возраст, воспользуемся оператором SUBSTRING);\n",
        "- <font color='blue'> traffic_segment </font> - сегмент по объёму потребляемого трафика (выгрузим только трафик, без двухзначного кода);\n",
        "- <font color='blue'> lifetime_segment </font> - сегмент по количеству дней \"жизни\" (выгрузим только количество дней);\n",
        "- <font color='blue'> nps_score </font> - оценка клиента в NPS-опросе (от 1 до 10);\n",
        "- <font color='blue'> nps_grop </font> - группа, к которой относится оценка клиента (новое поле, которое нужно создать при помощи подзапроса CASE, разделив оценки на категории: \"сторонники\", \"нейтралы\" и \"критики\")."
      ]
    },
    {
      "cell_type": "markdown",
      "id": "e0e70e1f",
      "metadata": {
        "id": "e0e70e1f"
      },
      "source": [
        "Для объединения данных из разных таблиц используем запрос LEFT JOIN."
      ]
    },
    {
      "cell_type": "code",
      "execution_count": 3,
      "id": "84ebad43",
      "metadata": {
        "id": "84ebad43"
      },
      "outputs": [],
      "source": [
        "# SQL-запрос\n",
        "query = \"\"\"\n",
        "SELECT u.user_id,\n",
        "       u.lt_day,\n",
        "       CASE\n",
        "           WHEN u.lt_day <= 365 THEN 'new'\n",
        "           ELSE 'old'\n",
        "       END is_new,\n",
        "       u.age,\n",
        "       CASE\n",
        "           WHEN u.gender_segment == 1 THEN 'женщина'\n",
        "           WHEN u.gender_segment == 0 THEN 'мужчина'\n",
        "           ELSE 'неизвестно'\n",
        "       END gender_segment,\n",
        "       u.os_name,\n",
        "       u.cpe_type_name,\n",
        "       l.country,\n",
        "       l.city,\n",
        "       SUBSTRING (ags.title, 3) AS age_segment,\n",
        "       SUBSTRING (ts.title, 3) AS traffic_segment,\n",
        "       SUBSTRING (ls.title, 3) AS lifetime_segment,\n",
        "       u.nps_score,\n",
        "       CASE\n",
        "           WHEN u.nps_score >= 9 THEN 'сторонники'\n",
        "           WHEN u.nps_score <= 8 AND nps_score >= 7 THEN 'нейтралы'\n",
        "           WHEN u.nps_score <= 6 THEN 'критики'\n",
        "       END AS nps_group\n",
        "FROM user AS u\n",
        "LEFT JOIN location AS l ON u.location_id = l.location_id\n",
        "LEFT JOIN age_segment AS ags ON ags.age_gr_id = u.age_gr_id\n",
        "LEFT JOIN traffic_segment AS ts ON ts.tr_gr_id = u.tr_gr_id\n",
        "LEFT JOIN lifetime_segment AS ls ON ls.lt_gr_id = u.lt_gr_id;\n",
        "\"\"\""
      ]
    },
    {
      "cell_type": "markdown",
      "id": "e88cfac6",
      "metadata": {
        "id": "e88cfac6"
      },
      "source": [
        "### 2.2. Датафрейм"
      ]
    },
    {
      "cell_type": "code",
      "execution_count": 4,
      "id": "3965faf2",
      "metadata": {
        "colab": {
          "base_uri": "https://localhost:8080/",
          "height": 163
        },
        "id": "3965faf2",
        "outputId": "aec38ff4-94c4-4ac1-b8a7-dc23ea240c6a"
      },
      "outputs": [
        {
          "output_type": "execute_result",
          "data": {
            "text/plain": [
              "  user_id  lt_day is_new   age gender_segment  os_name cpe_type_name country  \\\n",
              "0  A001A2    2320    old  45.0        женщина  ANDROID    SMARTPHONE  Россия   \n",
              "1  A001WF    2344    old  53.0        мужчина  ANDROID    SMARTPHONE  Россия   \n",
              "2  A003Q7     467    old  57.0        мужчина  ANDROID    SMARTPHONE  Россия   \n",
              "\n",
              "     city age_segment traffic_segment lifetime_segment  nps_score   nps_group  \n",
              "0     Уфа       45-54             1-5              36+         10  сторонники  \n",
              "1   Киров       45-54             1-5              36+         10  сторонники  \n",
              "2  Москва       55-64           20-25            13-24         10  сторонники  "
            ],
            "text/html": [
              "\n",
              "  <div id=\"df-cd8c3f51-068a-400d-b98b-7b6df4018c30\" class=\"colab-df-container\">\n",
              "    <div>\n",
              "<style scoped>\n",
              "    .dataframe tbody tr th:only-of-type {\n",
              "        vertical-align: middle;\n",
              "    }\n",
              "\n",
              "    .dataframe tbody tr th {\n",
              "        vertical-align: top;\n",
              "    }\n",
              "\n",
              "    .dataframe thead th {\n",
              "        text-align: right;\n",
              "    }\n",
              "</style>\n",
              "<table border=\"1\" class=\"dataframe\">\n",
              "  <thead>\n",
              "    <tr style=\"text-align: right;\">\n",
              "      <th></th>\n",
              "      <th>user_id</th>\n",
              "      <th>lt_day</th>\n",
              "      <th>is_new</th>\n",
              "      <th>age</th>\n",
              "      <th>gender_segment</th>\n",
              "      <th>os_name</th>\n",
              "      <th>cpe_type_name</th>\n",
              "      <th>country</th>\n",
              "      <th>city</th>\n",
              "      <th>age_segment</th>\n",
              "      <th>traffic_segment</th>\n",
              "      <th>lifetime_segment</th>\n",
              "      <th>nps_score</th>\n",
              "      <th>nps_group</th>\n",
              "    </tr>\n",
              "  </thead>\n",
              "  <tbody>\n",
              "    <tr>\n",
              "      <th>0</th>\n",
              "      <td>A001A2</td>\n",
              "      <td>2320</td>\n",
              "      <td>old</td>\n",
              "      <td>45.0</td>\n",
              "      <td>женщина</td>\n",
              "      <td>ANDROID</td>\n",
              "      <td>SMARTPHONE</td>\n",
              "      <td>Россия</td>\n",
              "      <td>Уфа</td>\n",
              "      <td>45-54</td>\n",
              "      <td>1-5</td>\n",
              "      <td>36+</td>\n",
              "      <td>10</td>\n",
              "      <td>сторонники</td>\n",
              "    </tr>\n",
              "    <tr>\n",
              "      <th>1</th>\n",
              "      <td>A001WF</td>\n",
              "      <td>2344</td>\n",
              "      <td>old</td>\n",
              "      <td>53.0</td>\n",
              "      <td>мужчина</td>\n",
              "      <td>ANDROID</td>\n",
              "      <td>SMARTPHONE</td>\n",
              "      <td>Россия</td>\n",
              "      <td>Киров</td>\n",
              "      <td>45-54</td>\n",
              "      <td>1-5</td>\n",
              "      <td>36+</td>\n",
              "      <td>10</td>\n",
              "      <td>сторонники</td>\n",
              "    </tr>\n",
              "    <tr>\n",
              "      <th>2</th>\n",
              "      <td>A003Q7</td>\n",
              "      <td>467</td>\n",
              "      <td>old</td>\n",
              "      <td>57.0</td>\n",
              "      <td>мужчина</td>\n",
              "      <td>ANDROID</td>\n",
              "      <td>SMARTPHONE</td>\n",
              "      <td>Россия</td>\n",
              "      <td>Москва</td>\n",
              "      <td>55-64</td>\n",
              "      <td>20-25</td>\n",
              "      <td>13-24</td>\n",
              "      <td>10</td>\n",
              "      <td>сторонники</td>\n",
              "    </tr>\n",
              "  </tbody>\n",
              "</table>\n",
              "</div>\n",
              "    <div class=\"colab-df-buttons\">\n",
              "\n",
              "  <div class=\"colab-df-container\">\n",
              "    <button class=\"colab-df-convert\" onclick=\"convertToInteractive('df-cd8c3f51-068a-400d-b98b-7b6df4018c30')\"\n",
              "            title=\"Convert this dataframe to an interactive table.\"\n",
              "            style=\"display:none;\">\n",
              "\n",
              "  <svg xmlns=\"http://www.w3.org/2000/svg\" height=\"24px\" viewBox=\"0 -960 960 960\">\n",
              "    <path d=\"M120-120v-720h720v720H120Zm60-500h600v-160H180v160Zm220 220h160v-160H400v160Zm0 220h160v-160H400v160ZM180-400h160v-160H180v160Zm440 0h160v-160H620v160ZM180-180h160v-160H180v160Zm440 0h160v-160H620v160Z\"/>\n",
              "  </svg>\n",
              "    </button>\n",
              "\n",
              "  <style>\n",
              "    .colab-df-container {\n",
              "      display:flex;\n",
              "      gap: 12px;\n",
              "    }\n",
              "\n",
              "    .colab-df-convert {\n",
              "      background-color: #E8F0FE;\n",
              "      border: none;\n",
              "      border-radius: 50%;\n",
              "      cursor: pointer;\n",
              "      display: none;\n",
              "      fill: #1967D2;\n",
              "      height: 32px;\n",
              "      padding: 0 0 0 0;\n",
              "      width: 32px;\n",
              "    }\n",
              "\n",
              "    .colab-df-convert:hover {\n",
              "      background-color: #E2EBFA;\n",
              "      box-shadow: 0px 1px 2px rgba(60, 64, 67, 0.3), 0px 1px 3px 1px rgba(60, 64, 67, 0.15);\n",
              "      fill: #174EA6;\n",
              "    }\n",
              "\n",
              "    .colab-df-buttons div {\n",
              "      margin-bottom: 4px;\n",
              "    }\n",
              "\n",
              "    [theme=dark] .colab-df-convert {\n",
              "      background-color: #3B4455;\n",
              "      fill: #D2E3FC;\n",
              "    }\n",
              "\n",
              "    [theme=dark] .colab-df-convert:hover {\n",
              "      background-color: #434B5C;\n",
              "      box-shadow: 0px 1px 3px 1px rgba(0, 0, 0, 0.15);\n",
              "      filter: drop-shadow(0px 1px 2px rgba(0, 0, 0, 0.3));\n",
              "      fill: #FFFFFF;\n",
              "    }\n",
              "  </style>\n",
              "\n",
              "    <script>\n",
              "      const buttonEl =\n",
              "        document.querySelector('#df-cd8c3f51-068a-400d-b98b-7b6df4018c30 button.colab-df-convert');\n",
              "      buttonEl.style.display =\n",
              "        google.colab.kernel.accessAllowed ? 'block' : 'none';\n",
              "\n",
              "      async function convertToInteractive(key) {\n",
              "        const element = document.querySelector('#df-cd8c3f51-068a-400d-b98b-7b6df4018c30');\n",
              "        const dataTable =\n",
              "          await google.colab.kernel.invokeFunction('convertToInteractive',\n",
              "                                                    [key], {});\n",
              "        if (!dataTable) return;\n",
              "\n",
              "        const docLinkHtml = 'Like what you see? Visit the ' +\n",
              "          '<a target=\"_blank\" href=https://colab.research.google.com/notebooks/data_table.ipynb>data table notebook</a>'\n",
              "          + ' to learn more about interactive tables.';\n",
              "        element.innerHTML = '';\n",
              "        dataTable['output_type'] = 'display_data';\n",
              "        await google.colab.output.renderOutput(dataTable, element);\n",
              "        const docLink = document.createElement('div');\n",
              "        docLink.innerHTML = docLinkHtml;\n",
              "        element.appendChild(docLink);\n",
              "      }\n",
              "    </script>\n",
              "  </div>\n",
              "\n",
              "\n",
              "<div id=\"df-d9715179-6dd0-47a0-8c8e-3a24a63d069d\">\n",
              "  <button class=\"colab-df-quickchart\" onclick=\"quickchart('df-d9715179-6dd0-47a0-8c8e-3a24a63d069d')\"\n",
              "            title=\"Suggest charts\"\n",
              "            style=\"display:none;\">\n",
              "\n",
              "<svg xmlns=\"http://www.w3.org/2000/svg\" height=\"24px\"viewBox=\"0 0 24 24\"\n",
              "     width=\"24px\">\n",
              "    <g>\n",
              "        <path d=\"M19 3H5c-1.1 0-2 .9-2 2v14c0 1.1.9 2 2 2h14c1.1 0 2-.9 2-2V5c0-1.1-.9-2-2-2zM9 17H7v-7h2v7zm4 0h-2V7h2v10zm4 0h-2v-4h2v4z\"/>\n",
              "    </g>\n",
              "</svg>\n",
              "  </button>\n",
              "\n",
              "<style>\n",
              "  .colab-df-quickchart {\n",
              "      --bg-color: #E8F0FE;\n",
              "      --fill-color: #1967D2;\n",
              "      --hover-bg-color: #E2EBFA;\n",
              "      --hover-fill-color: #174EA6;\n",
              "      --disabled-fill-color: #AAA;\n",
              "      --disabled-bg-color: #DDD;\n",
              "  }\n",
              "\n",
              "  [theme=dark] .colab-df-quickchart {\n",
              "      --bg-color: #3B4455;\n",
              "      --fill-color: #D2E3FC;\n",
              "      --hover-bg-color: #434B5C;\n",
              "      --hover-fill-color: #FFFFFF;\n",
              "      --disabled-bg-color: #3B4455;\n",
              "      --disabled-fill-color: #666;\n",
              "  }\n",
              "\n",
              "  .colab-df-quickchart {\n",
              "    background-color: var(--bg-color);\n",
              "    border: none;\n",
              "    border-radius: 50%;\n",
              "    cursor: pointer;\n",
              "    display: none;\n",
              "    fill: var(--fill-color);\n",
              "    height: 32px;\n",
              "    padding: 0;\n",
              "    width: 32px;\n",
              "  }\n",
              "\n",
              "  .colab-df-quickchart:hover {\n",
              "    background-color: var(--hover-bg-color);\n",
              "    box-shadow: 0 1px 2px rgba(60, 64, 67, 0.3), 0 1px 3px 1px rgba(60, 64, 67, 0.15);\n",
              "    fill: var(--button-hover-fill-color);\n",
              "  }\n",
              "\n",
              "  .colab-df-quickchart-complete:disabled,\n",
              "  .colab-df-quickchart-complete:disabled:hover {\n",
              "    background-color: var(--disabled-bg-color);\n",
              "    fill: var(--disabled-fill-color);\n",
              "    box-shadow: none;\n",
              "  }\n",
              "\n",
              "  .colab-df-spinner {\n",
              "    border: 2px solid var(--fill-color);\n",
              "    border-color: transparent;\n",
              "    border-bottom-color: var(--fill-color);\n",
              "    animation:\n",
              "      spin 1s steps(1) infinite;\n",
              "  }\n",
              "\n",
              "  @keyframes spin {\n",
              "    0% {\n",
              "      border-color: transparent;\n",
              "      border-bottom-color: var(--fill-color);\n",
              "      border-left-color: var(--fill-color);\n",
              "    }\n",
              "    20% {\n",
              "      border-color: transparent;\n",
              "      border-left-color: var(--fill-color);\n",
              "      border-top-color: var(--fill-color);\n",
              "    }\n",
              "    30% {\n",
              "      border-color: transparent;\n",
              "      border-left-color: var(--fill-color);\n",
              "      border-top-color: var(--fill-color);\n",
              "      border-right-color: var(--fill-color);\n",
              "    }\n",
              "    40% {\n",
              "      border-color: transparent;\n",
              "      border-right-color: var(--fill-color);\n",
              "      border-top-color: var(--fill-color);\n",
              "    }\n",
              "    60% {\n",
              "      border-color: transparent;\n",
              "      border-right-color: var(--fill-color);\n",
              "    }\n",
              "    80% {\n",
              "      border-color: transparent;\n",
              "      border-right-color: var(--fill-color);\n",
              "      border-bottom-color: var(--fill-color);\n",
              "    }\n",
              "    90% {\n",
              "      border-color: transparent;\n",
              "      border-bottom-color: var(--fill-color);\n",
              "    }\n",
              "  }\n",
              "</style>\n",
              "\n",
              "  <script>\n",
              "    async function quickchart(key) {\n",
              "      const quickchartButtonEl =\n",
              "        document.querySelector('#' + key + ' button');\n",
              "      quickchartButtonEl.disabled = true;  // To prevent multiple clicks.\n",
              "      quickchartButtonEl.classList.add('colab-df-spinner');\n",
              "      try {\n",
              "        const charts = await google.colab.kernel.invokeFunction(\n",
              "            'suggestCharts', [key], {});\n",
              "      } catch (error) {\n",
              "        console.error('Error during call to suggestCharts:', error);\n",
              "      }\n",
              "      quickchartButtonEl.classList.remove('colab-df-spinner');\n",
              "      quickchartButtonEl.classList.add('colab-df-quickchart-complete');\n",
              "    }\n",
              "    (() => {\n",
              "      let quickchartButtonEl =\n",
              "        document.querySelector('#df-d9715179-6dd0-47a0-8c8e-3a24a63d069d button');\n",
              "      quickchartButtonEl.style.display =\n",
              "        google.colab.kernel.accessAllowed ? 'block' : 'none';\n",
              "    })();\n",
              "  </script>\n",
              "</div>\n",
              "    </div>\n",
              "  </div>\n"
            ],
            "application/vnd.google.colaboratory.intrinsic+json": {
              "type": "dataframe",
              "variable_name": "df"
            }
          },
          "metadata": {},
          "execution_count": 4
        }
      ],
      "source": [
        "# сохраним полученные данные в датафрейм df\n",
        "df = pd.read_sql(query, engine)\n",
        "df.head(3)"
      ]
    },
    {
      "cell_type": "code",
      "execution_count": null,
      "id": "4e8f307b",
      "metadata": {
        "id": "4e8f307b",
        "outputId": "eb44fa4c-d12e-46e9-bd45-420a38d095eb"
      },
      "outputs": [
        {
          "name": "stdout",
          "output_type": "stream",
          "text": [
            "<class 'pandas.core.frame.DataFrame'>\n",
            "RangeIndex: 502493 entries, 0 to 502492\n",
            "Data columns (total 14 columns):\n",
            " #   Column            Non-Null Count   Dtype  \n",
            "---  ------            --------------   -----  \n",
            " 0   user_id           502493 non-null  object \n",
            " 1   lt_day            502493 non-null  int64  \n",
            " 2   is_new            502493 non-null  object \n",
            " 3   age               501939 non-null  float64\n",
            " 4   gender_segment    502493 non-null  object \n",
            " 5   os_name           502493 non-null  object \n",
            " 6   cpe_type_name     502493 non-null  object \n",
            " 7   country           502493 non-null  object \n",
            " 8   city              502493 non-null  object \n",
            " 9   age_segment       502493 non-null  object \n",
            " 10  traffic_segment   502493 non-null  object \n",
            " 11  lifetime_segment  502493 non-null  object \n",
            " 12  nps_score         502493 non-null  int64  \n",
            " 13  nps_group         502493 non-null  object \n",
            "dtypes: float64(1), int64(2), object(11)\n",
            "memory usage: 53.7+ MB\n"
          ]
        }
      ],
      "source": [
        "df.info()"
      ]
    },
    {
      "cell_type": "markdown",
      "id": "c3e4a879",
      "metadata": {
        "id": "c3e4a879"
      },
      "source": [
        "### 2.3. Файл в формате .csv"
      ]
    },
    {
      "cell_type": "code",
      "execution_count": 5,
      "id": "9db04858",
      "metadata": {
        "id": "9db04858"
      },
      "outputs": [],
      "source": [
        "# полученную витрину сохраним в формате .csv\n",
        "df.to_csv('telecomm_csi_tableau.csv', index=False)"
      ]
    },
    {
      "cell_type": "markdown",
      "id": "486eb557",
      "metadata": {
        "id": "486eb557"
      },
      "source": [
        "## 3. Дашборд"
      ]
    },
    {
      "cell_type": "markdown",
      "source": [
        "Из полученных данных средствами программы Tableau Public составлен интерактивный дашборд, <br>\n",
        "в котором отражен уровень лояльности в зависимости от пользовательских признаков, <br>\n",
        "таких как: пол, возраст, город проживания, операционная система и т.д."
      ],
      "metadata": {
        "id": "NN1_8nZL6B6h"
      },
      "id": "NN1_8nZL6B6h"
    },
    {
      "cell_type": "markdown",
      "id": "9f690d9b",
      "metadata": {
        "id": "9f690d9b"
      },
      "source": [
        "Ссылка на дашборд в Tableau:\n",
        "https://public.tableau.com/views/_NPS-/NPS-?:language=en-US&publish=yes&:display_count=n&:origin=viz_share_link"
      ]
    }
  ],
  "metadata": {
    "ExecuteTimeLog": [
      {
        "duration": 517,
        "start_time": "2023-12-30T14:13:40.359Z"
      },
      {
        "duration": 3,
        "start_time": "2023-12-30T14:15:50.302Z"
      },
      {
        "duration": 82,
        "start_time": "2023-12-30T14:22:35.156Z"
      },
      {
        "duration": 4,
        "start_time": "2023-12-30T15:24:22.935Z"
      },
      {
        "duration": 465,
        "start_time": "2023-12-30T15:28:28.531Z"
      },
      {
        "duration": 3,
        "start_time": "2023-12-30T15:28:40.932Z"
      },
      {
        "duration": 351,
        "start_time": "2023-12-30T15:28:48.590Z"
      },
      {
        "duration": 497,
        "start_time": "2023-12-30T15:29:23.571Z"
      },
      {
        "duration": 62,
        "start_time": "2023-12-30T15:29:24.069Z"
      },
      {
        "duration": 3,
        "start_time": "2023-12-30T15:29:24.132Z"
      },
      {
        "duration": 388,
        "start_time": "2023-12-30T15:29:24.137Z"
      },
      {
        "duration": 0,
        "start_time": "2023-12-30T15:29:24.526Z"
      },
      {
        "duration": 3,
        "start_time": "2023-12-30T15:32:16.058Z"
      },
      {
        "duration": 350,
        "start_time": "2023-12-30T15:32:20.006Z"
      },
      {
        "duration": 3,
        "start_time": "2023-12-30T15:43:12.759Z"
      },
      {
        "duration": 349,
        "start_time": "2023-12-30T15:43:17.014Z"
      },
      {
        "duration": 3,
        "start_time": "2023-12-30T15:44:02.182Z"
      },
      {
        "duration": 354,
        "start_time": "2023-12-30T15:44:05.905Z"
      },
      {
        "duration": 3,
        "start_time": "2023-12-30T15:50:43.605Z"
      },
      {
        "duration": 388,
        "start_time": "2023-12-30T15:50:46.869Z"
      },
      {
        "duration": 2,
        "start_time": "2023-12-30T16:05:42.832Z"
      },
      {
        "duration": 3,
        "start_time": "2023-12-30T16:05:48.023Z"
      },
      {
        "duration": 2,
        "start_time": "2023-12-30T16:05:50.445Z"
      },
      {
        "duration": 609,
        "start_time": "2023-12-30T16:05:53.006Z"
      },
      {
        "duration": 505,
        "start_time": "2023-12-30T16:06:23.372Z"
      },
      {
        "duration": 72,
        "start_time": "2023-12-30T16:06:23.879Z"
      },
      {
        "duration": 3,
        "start_time": "2023-12-30T16:06:23.952Z"
      },
      {
        "duration": 405,
        "start_time": "2023-12-30T16:06:23.957Z"
      },
      {
        "duration": 0,
        "start_time": "2023-12-30T16:06:24.363Z"
      },
      {
        "duration": 3,
        "start_time": "2023-12-30T16:24:25.065Z"
      },
      {
        "duration": 379,
        "start_time": "2023-12-30T16:24:28.128Z"
      },
      {
        "duration": 3,
        "start_time": "2023-12-30T16:30:49.919Z"
      },
      {
        "duration": 357,
        "start_time": "2023-12-30T16:30:53.071Z"
      },
      {
        "duration": 3,
        "start_time": "2023-12-30T16:33:10.469Z"
      },
      {
        "duration": 585,
        "start_time": "2023-12-30T16:33:13.256Z"
      },
      {
        "duration": 3,
        "start_time": "2023-12-30T16:36:10.046Z"
      },
      {
        "duration": 596,
        "start_time": "2023-12-30T16:36:12.662Z"
      },
      {
        "duration": 3,
        "start_time": "2023-12-30T16:37:11.262Z"
      },
      {
        "duration": 609,
        "start_time": "2023-12-30T16:37:14.030Z"
      },
      {
        "duration": 2,
        "start_time": "2023-12-30T16:38:46.702Z"
      },
      {
        "duration": 591,
        "start_time": "2023-12-30T16:38:51.135Z"
      },
      {
        "duration": 3,
        "start_time": "2023-12-30T16:39:59.261Z"
      },
      {
        "duration": 5797,
        "start_time": "2023-12-30T16:40:02.214Z"
      },
      {
        "duration": 2,
        "start_time": "2023-12-30T16:42:28.850Z"
      },
      {
        "duration": 4860,
        "start_time": "2023-12-30T16:42:32.340Z"
      },
      {
        "duration": 4,
        "start_time": "2023-12-30T16:48:34.956Z"
      },
      {
        "duration": 482,
        "start_time": "2023-12-30T16:48:38.673Z"
      },
      {
        "duration": 3,
        "start_time": "2023-12-30T16:49:07.281Z"
      },
      {
        "duration": 5002,
        "start_time": "2023-12-30T16:49:10.747Z"
      },
      {
        "duration": 6765,
        "start_time": "2023-12-30T16:52:28.694Z"
      },
      {
        "duration": 85,
        "start_time": "2023-12-30T17:40:27.521Z"
      },
      {
        "duration": 72,
        "start_time": "2023-12-30T17:40:53.158Z"
      },
      {
        "duration": 81,
        "start_time": "2023-12-30T17:41:06.444Z"
      },
      {
        "duration": 71,
        "start_time": "2023-12-30T17:41:11.437Z"
      },
      {
        "duration": 40,
        "start_time": "2023-12-30T17:41:22.217Z"
      },
      {
        "duration": 449,
        "start_time": "2023-12-30T17:41:54.720Z"
      },
      {
        "duration": 68,
        "start_time": "2023-12-30T17:41:55.171Z"
      },
      {
        "duration": 4,
        "start_time": "2023-12-30T17:41:55.240Z"
      },
      {
        "duration": 5224,
        "start_time": "2023-12-30T17:41:55.245Z"
      },
      {
        "duration": 4282,
        "start_time": "2023-12-30T17:42:00.471Z"
      },
      {
        "duration": 562,
        "start_time": "2023-12-30T18:48:58.179Z"
      },
      {
        "duration": 6,
        "start_time": "2023-12-30T18:52:42.243Z"
      },
      {
        "duration": 3,
        "start_time": "2023-12-30T18:53:47.350Z"
      },
      {
        "duration": 507,
        "start_time": "2023-12-30T18:53:58.147Z"
      },
      {
        "duration": 67,
        "start_time": "2023-12-30T18:53:58.656Z"
      },
      {
        "duration": 3,
        "start_time": "2023-12-30T18:53:58.727Z"
      },
      {
        "duration": 5116,
        "start_time": "2023-12-30T18:53:58.731Z"
      },
      {
        "duration": 500,
        "start_time": "2023-12-30T18:54:03.848Z"
      },
      {
        "duration": 15,
        "start_time": "2023-12-30T18:54:04.350Z"
      },
      {
        "duration": 4404,
        "start_time": "2023-12-30T18:54:04.367Z"
      },
      {
        "duration": 46,
        "start_time": "2024-01-05T13:48:07.461Z"
      },
      {
        "duration": 524,
        "start_time": "2024-01-05T13:48:45.563Z"
      },
      {
        "duration": 73,
        "start_time": "2024-01-05T13:48:46.089Z"
      },
      {
        "duration": 4,
        "start_time": "2024-01-05T13:48:46.163Z"
      },
      {
        "duration": 5413,
        "start_time": "2024-01-05T13:48:46.170Z"
      },
      {
        "duration": 515,
        "start_time": "2024-01-05T13:48:51.584Z"
      },
      {
        "duration": 106,
        "start_time": "2024-01-05T13:48:52.100Z"
      },
      {
        "duration": 4258,
        "start_time": "2024-01-05T13:48:52.207Z"
      },
      {
        "duration": 2,
        "start_time": "2024-01-08T18:20:50.896Z"
      },
      {
        "duration": 99,
        "start_time": "2024-01-08T18:20:50.901Z"
      },
      {
        "duration": 4,
        "start_time": "2024-01-08T18:20:51.001Z"
      },
      {
        "duration": 5195,
        "start_time": "2024-01-08T18:20:51.006Z"
      },
      {
        "duration": 492,
        "start_time": "2024-01-08T18:20:56.203Z"
      },
      {
        "duration": 105,
        "start_time": "2024-01-08T18:20:56.696Z"
      },
      {
        "duration": 4522,
        "start_time": "2024-01-08T18:20:56.802Z"
      },
      {
        "duration": 453,
        "start_time": "2024-01-08T18:21:49.670Z"
      },
      {
        "duration": 67,
        "start_time": "2024-01-08T18:21:50.125Z"
      },
      {
        "duration": 4,
        "start_time": "2024-01-08T18:21:50.193Z"
      },
      {
        "duration": 5560,
        "start_time": "2024-01-08T18:21:50.199Z"
      },
      {
        "duration": 512,
        "start_time": "2024-01-08T18:21:55.762Z"
      },
      {
        "duration": 103,
        "start_time": "2024-01-08T18:21:56.276Z"
      },
      {
        "duration": 4471,
        "start_time": "2024-01-08T18:21:56.380Z"
      },
      {
        "duration": 592,
        "start_time": "2024-01-08T18:38:30.978Z"
      },
      {
        "duration": 11,
        "start_time": "2024-01-08T18:38:31.572Z"
      },
      {
        "duration": 75,
        "start_time": "2024-01-08T18:38:31.585Z"
      },
      {
        "duration": 6887,
        "start_time": "2024-01-08T18:38:31.662Z"
      },
      {
        "duration": 532,
        "start_time": "2024-01-08T18:38:38.551Z"
      },
      {
        "duration": 111,
        "start_time": "2024-01-08T18:38:39.085Z"
      },
      {
        "duration": 4717,
        "start_time": "2024-01-08T18:38:39.200Z"
      },
      {
        "duration": 559,
        "start_time": "2024-01-08T20:29:42.901Z"
      },
      {
        "duration": 14,
        "start_time": "2024-01-08T20:29:43.463Z"
      },
      {
        "duration": 4,
        "start_time": "2024-01-08T20:29:43.479Z"
      },
      {
        "duration": 6464,
        "start_time": "2024-01-08T20:29:43.485Z"
      },
      {
        "duration": 548,
        "start_time": "2024-01-08T20:29:49.952Z"
      },
      {
        "duration": 119,
        "start_time": "2024-01-08T20:29:50.501Z"
      },
      {
        "duration": 4821,
        "start_time": "2024-01-08T20:29:50.622Z"
      },
      {
        "duration": 721,
        "start_time": "2024-01-08T20:29:57.346Z"
      },
      {
        "duration": 517,
        "start_time": "2024-01-08T20:56:02.742Z"
      },
      {
        "duration": 11,
        "start_time": "2024-01-08T20:56:03.261Z"
      },
      {
        "duration": 8,
        "start_time": "2024-01-08T20:56:03.274Z"
      },
      {
        "duration": 6749,
        "start_time": "2024-01-08T20:56:03.284Z"
      },
      {
        "duration": 584,
        "start_time": "2024-01-08T20:56:10.035Z"
      },
      {
        "duration": 128,
        "start_time": "2024-01-08T20:56:10.621Z"
      },
      {
        "duration": 4832,
        "start_time": "2024-01-08T20:56:10.751Z"
      }
    ],
    "kernelspec": {
      "display_name": "Python 3 (ipykernel)",
      "language": "python",
      "name": "python3"
    },
    "language_info": {
      "codemirror_mode": {
        "name": "ipython",
        "version": 3
      },
      "file_extension": ".py",
      "mimetype": "text/x-python",
      "name": "python",
      "nbconvert_exporter": "python",
      "pygments_lexer": "ipython3",
      "version": "3.9.5"
    },
    "toc": {
      "base_numbering": 1,
      "nav_menu": {},
      "number_sections": true,
      "sideBar": true,
      "skip_h1_title": true,
      "title_cell": "Table of Contents",
      "title_sidebar": "Contents",
      "toc_cell": false,
      "toc_position": {},
      "toc_section_display": true,
      "toc_window_display": false
    },
    "colab": {
      "provenance": [],
      "include_colab_link": true
    }
  },
  "nbformat": 4,
  "nbformat_minor": 5
}